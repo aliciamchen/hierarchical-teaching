{
 "cells": [
  {
   "cell_type": "markdown",
   "metadata": {},
   "source": [
    "# Student performance\n",
    "Natalia Vélez, February 2022"
   ]
  },
  {
   "cell_type": "code",
   "execution_count": 29,
   "metadata": {},
   "outputs": [],
   "source": [
    "%matplotlib inline\n",
    "import sys\n",
    "import pandas as pd\n",
    "import numpy as np\n",
    "import matplotlib.pyplot as plt\n",
    "import seaborn as sns\n",
    "from ast import literal_eval\n",
    "\n",
    "# sys.path.append('..')\n",
    "from utils import gsearch, read_json, int_extract\n",
    "\n",
    "# sys.path.append('../2_behavioral')\n",
    "# import teaching_models as teach\n",
    "\n",
    "sns.set_context('talk')\n",
    "sns.set_style('white')"
   ]
  },
  {
   "cell_type": "markdown",
   "metadata": {},
   "source": [
    "Load student data:"
   ]
  },
  {
   "cell_type": "code",
   "execution_count": 30,
   "metadata": {},
   "outputs": [
    {
     "name": "stdout",
     "output_type": "stream",
     "text": [
      "Loaded data from 140/140 students\n"
     ]
    },
    {
     "data": {
      "text/html": [
       "<div>\n",
       "<style scoped>\n",
       "    .dataframe tbody tr th:only-of-type {\n",
       "        vertical-align: middle;\n",
       "    }\n",
       "\n",
       "    .dataframe tbody tr th {\n",
       "        vertical-align: top;\n",
       "    }\n",
       "\n",
       "    .dataframe thead th {\n",
       "        text-align: right;\n",
       "    }\n",
       "</style>\n",
       "<table border=\"1\" class=\"dataframe\">\n",
       "  <thead>\n",
       "    <tr style=\"text-align: right;\">\n",
       "      <th></th>\n",
       "      <th>time_elapsed</th>\n",
       "      <th>teacher</th>\n",
       "      <th>problem</th>\n",
       "      <th>num_trial</th>\n",
       "      <th>num_hint</th>\n",
       "      <th>bets</th>\n",
       "      <th>bonus</th>\n",
       "      <th>worker</th>\n",
       "      <th>trial_order</th>\n",
       "      <th>order</th>\n",
       "      <th>bets_sorted</th>\n",
       "      <th>belief_in_true</th>\n",
       "    </tr>\n",
       "  </thead>\n",
       "  <tbody>\n",
       "    <tr>\n",
       "      <th>0</th>\n",
       "      <td>181304</td>\n",
       "      <td>4</td>\n",
       "      <td>34</td>\n",
       "      <td>0</td>\n",
       "      <td>1</td>\n",
       "      <td>[0, 35, 41, 48]</td>\n",
       "      <td>0.013777</td>\n",
       "      <td>133</td>\n",
       "      <td>0</td>\n",
       "      <td>['B', 'D', 'A', 'C']</td>\n",
       "      <td>[41, 0, 48, 35]</td>\n",
       "      <td>0.330645</td>\n",
       "    </tr>\n",
       "    <tr>\n",
       "      <th>1</th>\n",
       "      <td>192911</td>\n",
       "      <td>4</td>\n",
       "      <td>34</td>\n",
       "      <td>0</td>\n",
       "      <td>2</td>\n",
       "      <td>[0, 50, 49, 0]</td>\n",
       "      <td>0.020623</td>\n",
       "      <td>133</td>\n",
       "      <td>0</td>\n",
       "      <td>['B', 'D', 'A', 'C']</td>\n",
       "      <td>[49, 0, 0, 50]</td>\n",
       "      <td>0.494949</td>\n",
       "    </tr>\n",
       "    <tr>\n",
       "      <th>2</th>\n",
       "      <td>203582</td>\n",
       "      <td>4</td>\n",
       "      <td>34</td>\n",
       "      <td>0</td>\n",
       "      <td>3</td>\n",
       "      <td>[0, 0, 100, 0]</td>\n",
       "      <td>0.041667</td>\n",
       "      <td>133</td>\n",
       "      <td>0</td>\n",
       "      <td>['B', 'D', 'A', 'C']</td>\n",
       "      <td>[100, 0, 0, 0]</td>\n",
       "      <td>1.000000</td>\n",
       "    </tr>\n",
       "    <tr>\n",
       "      <th>3</th>\n",
       "      <td>223655</td>\n",
       "      <td>27</td>\n",
       "      <td>15</td>\n",
       "      <td>1</td>\n",
       "      <td>1</td>\n",
       "      <td>[0, 52, 50, 48]</td>\n",
       "      <td>0.014444</td>\n",
       "      <td>133</td>\n",
       "      <td>0</td>\n",
       "      <td>['B', 'A', 'D', 'C']</td>\n",
       "      <td>[52, 0, 48, 50]</td>\n",
       "      <td>0.346667</td>\n",
       "    </tr>\n",
       "    <tr>\n",
       "      <th>4</th>\n",
       "      <td>232054</td>\n",
       "      <td>27</td>\n",
       "      <td>15</td>\n",
       "      <td>1</td>\n",
       "      <td>2</td>\n",
       "      <td>[0, 52, 50, 0]</td>\n",
       "      <td>0.021242</td>\n",
       "      <td>133</td>\n",
       "      <td>0</td>\n",
       "      <td>['B', 'A', 'D', 'C']</td>\n",
       "      <td>[52, 0, 0, 50]</td>\n",
       "      <td>0.509804</td>\n",
       "    </tr>\n",
       "  </tbody>\n",
       "</table>\n",
       "</div>"
      ],
      "text/plain": [
       "   time_elapsed  teacher  problem  num_trial  num_hint             bets  \\\n",
       "0        181304        4       34          0         1  [0, 35, 41, 48]   \n",
       "1        192911        4       34          0         2   [0, 50, 49, 0]   \n",
       "2        203582        4       34          0         3   [0, 0, 100, 0]   \n",
       "3        223655       27       15          1         1  [0, 52, 50, 48]   \n",
       "4        232054       27       15          1         2   [0, 52, 50, 0]   \n",
       "\n",
       "      bonus  worker  trial_order                 order      bets_sorted  \\\n",
       "0  0.013777     133            0  ['B', 'D', 'A', 'C']  [41, 0, 48, 35]   \n",
       "1  0.020623     133            0  ['B', 'D', 'A', 'C']   [49, 0, 0, 50]   \n",
       "2  0.041667     133            0  ['B', 'D', 'A', 'C']   [100, 0, 0, 0]   \n",
       "3  0.014444     133            0  ['B', 'A', 'D', 'C']  [52, 0, 48, 50]   \n",
       "4  0.021242     133            0  ['B', 'A', 'D', 'C']   [52, 0, 0, 50]   \n",
       "\n",
       "   belief_in_true  \n",
       "0        0.330645  \n",
       "1        0.494949  \n",
       "2        1.000000  \n",
       "3        0.346667  \n",
       "4        0.509804  "
      ]
     },
     "execution_count": 30,
     "metadata": {},
     "output_type": "execute_result"
    }
   ],
   "source": [
    "student_df = pd.read_csv('student_behavior.csv')\n",
    "# student_df['num_hint'] = (student_df['num_hint'] + 1).astype(int)\n",
    "# student_df['problem'] = student_df['problem'].astype(int)\n",
    "student_df['num_hint'] = student_df['num_hint'] + 1\n",
    "student_df['teacher'] = student_df.teacher.apply(lambda s: int_extract('(?<=sub-)[0-9]+', s))\n",
    "student_df['bets'] = student_df.bets.apply(literal_eval)\n",
    "#student_df = student_df.rename(columns={'order': 'trial_order'})\n",
    "\n",
    "print('Loaded data from %i/140 students' % student_df.worker.nunique())\n",
    "student_df.head()"
   ]
  },
  {
   "cell_type": "markdown",
   "metadata": {},
   "source": [
    "## Performance"
   ]
  },
  {
   "cell_type": "markdown",
   "metadata": {},
   "source": [
    "Change in bonus over time"
   ]
  },
  {
   "cell_type": "code",
   "execution_count": 31,
   "metadata": {},
   "outputs": [
    {
     "data": {
      "text/plain": [
       "[Text(0.5, 0, '# Hints presented'), Text(0, 0.5, 'Score')]"
      ]
     },
     "execution_count": 31,
     "metadata": {},
     "output_type": "execute_result"
    },
    {
     "data": {
      "image/png": "[encoded data removed]",
      "text/plain": [
       "<Figure size 432x288 with 1 Axes>"
      ]
     },
     "metadata": {},
     "output_type": "display_data"
    }
   ],
   "source": [
    "ax=sns.pointplot(data=student_df, x='num_hint', y ='bonus')\n",
    "ax.set(xlabel='# Hints presented', ylabel='Score')\n",
    "# ax.axhline(5.0/40/3, linestyle='--', color='#aaa')\n",
    "# sns.despine()"
   ]
  },
  {
   "cell_type": "markdown",
   "metadata": {},
   "source": [
    "Average bonus by problem"
   ]
  },
  {
   "cell_type": "code",
   "execution_count": 32,
   "metadata": {},
   "outputs": [
    {
     "data": {
      "image/png": "[encoded data removed]",
      "text/plain": [
       "<Figure size 1440x360 with 1 Axes>"
      ]
     },
     "metadata": {},
     "output_type": "display_data"
    }
   ],
   "source": [
    "problem_avg = student_df.groupby(['worker', 'problem']).agg({'bonus': 'sum'}).reset_index()\n",
    "problem_avg['hue_group'] = 1\n",
    "problem_difficulty = (\n",
    "    problem_avg\n",
    "    .groupby('problem')\n",
    "    .agg({'bonus': 'mean'})\n",
    "    .reset_index()\n",
    "    .sort_values(by='bonus', ascending=False)\n",
    ")\n",
    "\n",
    "fig,ax=plt.subplots(figsize=(20,5))\n",
    "sns.barplot(data=problem_avg, x='problem', y='bonus', hue='hue_group', order=problem_difficulty.problem.values, ax=ax)\n",
    "ax.legend().remove()\n",
    "ax.set(xlabel='Problems', ylabel='Score', xticklabels=[])\n",
    "ax.axhline(y=5.0/40, linestyle='--', color = '#aaa')\n",
    "sns.despine()"
   ]
  },
  {
   "cell_type": "markdown",
   "metadata": {},
   "source": [
    "Average bonus by teacher"
   ]
  },
  {
   "cell_type": "code",
   "execution_count": 33,
   "metadata": {},
   "outputs": [
    {
     "data": {
      "image/png": "[encoded data removed]",
      "text/plain": [
       "<Figure size 1152x360 with 1 Axes>"
      ]
     },
     "metadata": {},
     "output_type": "display_data"
    }
   ],
   "source": [
    "teacher_avg = student_df.groupby(['worker', 'problem', 'teacher']).agg({'bonus': 'sum'}).reset_index()\n",
    "teacher_avg['hue_group'] = 1\n",
    "teacher_quality = (\n",
    "    teacher_avg\n",
    "    .groupby('teacher')\n",
    "    .agg({'bonus': 'mean'})\n",
    "    .reset_index()\n",
    "    .sort_values(by='bonus', ascending=False)\n",
    ")\n",
    "\n",
    "fig,ax=plt.subplots(figsize=(16,5))\n",
    "sns.barplot(data=teacher_avg, x='teacher', y='bonus', hue='hue_group', ax=ax, order=teacher_quality.teacher.values)\n",
    "ax.legend().remove()\n",
    "ax.set(xlabel='Teacher', ylabel='Score', xticklabels=[])\n",
    "ax.axhline(y=5.0/40, linestyle='--', color = '#aaa')\n",
    "sns.despine()"
   ]
  },
  {
   "cell_type": "markdown",
   "metadata": {},
   "source": [
    "## Correlation with teacher ratings"
   ]
  },
  {
   "cell_type": "markdown",
   "metadata": {},
   "source": [
    "Load teacher data:"
   ]
  },
  {
   "cell_type": "code",
   "execution_count": 34,
   "metadata": {},
   "outputs": [
    {
     "data": {
      "text/html": [
       "<div>\n",
       "<style scoped>\n",
       "    .dataframe tbody tr th:only-of-type {\n",
       "        vertical-align: middle;\n",
       "    }\n",
       "\n",
       "    .dataframe tbody tr th {\n",
       "        vertical-align: top;\n",
       "    }\n",
       "\n",
       "    .dataframe thead th {\n",
       "        text-align: right;\n",
       "    }\n",
       "</style>\n",
       "<table border=\"1\" class=\"dataframe\">\n",
       "  <thead>\n",
       "    <tr style=\"text-align: right;\">\n",
       "      <th></th>\n",
       "      <th>teacher</th>\n",
       "      <th>run</th>\n",
       "      <th>block_idx</th>\n",
       "      <th>first_movement</th>\n",
       "      <th>start</th>\n",
       "      <th>onset</th>\n",
       "      <th>problem</th>\n",
       "      <th>order</th>\n",
       "      <th>example</th>\n",
       "      <th>teacher_rating</th>\n",
       "      <th>num_hint</th>\n",
       "    </tr>\n",
       "  </thead>\n",
       "  <tbody>\n",
       "    <tr>\n",
       "      <th>0</th>\n",
       "      <td>1</td>\n",
       "      <td>1</td>\n",
       "      <td>0</td>\n",
       "      <td>[0, 1]</td>\n",
       "      <td>[0, 0]</td>\n",
       "      <td>30.00</td>\n",
       "      <td>22</td>\n",
       "      <td>['C', 'B', 'D', 'A']</td>\n",
       "      <td>[1, 2]</td>\n",
       "      <td>1.0</td>\n",
       "      <td>1.0</td>\n",
       "    </tr>\n",
       "    <tr>\n",
       "      <th>1</th>\n",
       "      <td>1</td>\n",
       "      <td>1</td>\n",
       "      <td>0</td>\n",
       "      <td>[0, 1]</td>\n",
       "      <td>[0, 0]</td>\n",
       "      <td>45.35</td>\n",
       "      <td>22</td>\n",
       "      <td>['C', 'B', 'D', 'A']</td>\n",
       "      <td>[4, 3]</td>\n",
       "      <td>2.0</td>\n",
       "      <td>2.0</td>\n",
       "    </tr>\n",
       "    <tr>\n",
       "      <th>2</th>\n",
       "      <td>1</td>\n",
       "      <td>1</td>\n",
       "      <td>0</td>\n",
       "      <td>[0, 1]</td>\n",
       "      <td>[0, 0]</td>\n",
       "      <td>59.35</td>\n",
       "      <td>22</td>\n",
       "      <td>['C', 'B', 'D', 'A']</td>\n",
       "      <td>NaN</td>\n",
       "      <td>2.0</td>\n",
       "      <td>NaN</td>\n",
       "    </tr>\n",
       "    <tr>\n",
       "      <th>3</th>\n",
       "      <td>1</td>\n",
       "      <td>1</td>\n",
       "      <td>1</td>\n",
       "      <td>[0, 4]</td>\n",
       "      <td>[0, 5]</td>\n",
       "      <td>104.05</td>\n",
       "      <td>18</td>\n",
       "      <td>['D', 'B', 'C', 'A']</td>\n",
       "      <td>[0, 3]</td>\n",
       "      <td>0.0</td>\n",
       "      <td>1.0</td>\n",
       "    </tr>\n",
       "    <tr>\n",
       "      <th>4</th>\n",
       "      <td>1</td>\n",
       "      <td>1</td>\n",
       "      <td>1</td>\n",
       "      <td>[0, 4]</td>\n",
       "      <td>[0, 5]</td>\n",
       "      <td>118.45</td>\n",
       "      <td>18</td>\n",
       "      <td>['D', 'B', 'C', 'A']</td>\n",
       "      <td>[5, 2]</td>\n",
       "      <td>NaN</td>\n",
       "      <td>2.0</td>\n",
       "    </tr>\n",
       "    <tr>\n",
       "      <th>5</th>\n",
       "      <td>1</td>\n",
       "      <td>1</td>\n",
       "      <td>1</td>\n",
       "      <td>[0, 4]</td>\n",
       "      <td>[0, 5]</td>\n",
       "      <td>132.55</td>\n",
       "      <td>18</td>\n",
       "      <td>['D', 'B', 'C', 'A']</td>\n",
       "      <td>[1, 1]</td>\n",
       "      <td>3.0</td>\n",
       "      <td>3.0</td>\n",
       "    </tr>\n",
       "    <tr>\n",
       "      <th>6</th>\n",
       "      <td>1</td>\n",
       "      <td>1</td>\n",
       "      <td>2</td>\n",
       "      <td>[5, 4]</td>\n",
       "      <td>[5, 5]</td>\n",
       "      <td>175.90</td>\n",
       "      <td>1</td>\n",
       "      <td>['A', 'D', 'C', 'B']</td>\n",
       "      <td>[5, 1]</td>\n",
       "      <td>1.0</td>\n",
       "      <td>1.0</td>\n",
       "    </tr>\n",
       "    <tr>\n",
       "      <th>7</th>\n",
       "      <td>1</td>\n",
       "      <td>1</td>\n",
       "      <td>2</td>\n",
       "      <td>[5, 4]</td>\n",
       "      <td>[5, 5]</td>\n",
       "      <td>192.70</td>\n",
       "      <td>1</td>\n",
       "      <td>['A', 'D', 'C', 'B']</td>\n",
       "      <td>[0, 1]</td>\n",
       "      <td>4.0</td>\n",
       "      <td>2.0</td>\n",
       "    </tr>\n",
       "    <tr>\n",
       "      <th>8</th>\n",
       "      <td>1</td>\n",
       "      <td>1</td>\n",
       "      <td>2</td>\n",
       "      <td>[5, 4]</td>\n",
       "      <td>[5, 5]</td>\n",
       "      <td>207.30</td>\n",
       "      <td>1</td>\n",
       "      <td>['A', 'D', 'C', 'B']</td>\n",
       "      <td>[0, 4]</td>\n",
       "      <td>4.0</td>\n",
       "      <td>3.0</td>\n",
       "    </tr>\n",
       "    <tr>\n",
       "      <th>9</th>\n",
       "      <td>1</td>\n",
       "      <td>1</td>\n",
       "      <td>3</td>\n",
       "      <td>[5, 1]</td>\n",
       "      <td>[5, 0]</td>\n",
       "      <td>254.65</td>\n",
       "      <td>16</td>\n",
       "      <td>['B', 'C', 'A', 'D']</td>\n",
       "      <td>NaN</td>\n",
       "      <td>0.0</td>\n",
       "      <td>NaN</td>\n",
       "    </tr>\n",
       "    <tr>\n",
       "      <th>10</th>\n",
       "      <td>1</td>\n",
       "      <td>1</td>\n",
       "      <td>3</td>\n",
       "      <td>[5, 1]</td>\n",
       "      <td>[5, 0]</td>\n",
       "      <td>268.80</td>\n",
       "      <td>16</td>\n",
       "      <td>['B', 'C', 'A', 'D']</td>\n",
       "      <td>[4, 3]</td>\n",
       "      <td>1.0</td>\n",
       "      <td>1.0</td>\n",
       "    </tr>\n",
       "    <tr>\n",
       "      <th>11</th>\n",
       "      <td>1</td>\n",
       "      <td>1</td>\n",
       "      <td>3</td>\n",
       "      <td>[5, 1]</td>\n",
       "      <td>[5, 0]</td>\n",
       "      <td>284.65</td>\n",
       "      <td>16</td>\n",
       "      <td>['B', 'C', 'A', 'D']</td>\n",
       "      <td>[1, 2]</td>\n",
       "      <td>NaN</td>\n",
       "      <td>2.0</td>\n",
       "    </tr>\n",
       "    <tr>\n",
       "      <th>12</th>\n",
       "      <td>1</td>\n",
       "      <td>2</td>\n",
       "      <td>0</td>\n",
       "      <td>[0, 1]</td>\n",
       "      <td>[0, 0]</td>\n",
       "      <td>30.00</td>\n",
       "      <td>20</td>\n",
       "      <td>['D', 'C', 'A', 'B']</td>\n",
       "      <td>[1, 3]</td>\n",
       "      <td>NaN</td>\n",
       "      <td>1.0</td>\n",
       "    </tr>\n",
       "    <tr>\n",
       "      <th>13</th>\n",
       "      <td>1</td>\n",
       "      <td>2</td>\n",
       "      <td>0</td>\n",
       "      <td>[0, 1]</td>\n",
       "      <td>[0, 0]</td>\n",
       "      <td>44.95</td>\n",
       "      <td>20</td>\n",
       "      <td>['D', 'C', 'A', 'B']</td>\n",
       "      <td>[3, 1]</td>\n",
       "      <td>2.0</td>\n",
       "      <td>2.0</td>\n",
       "    </tr>\n",
       "    <tr>\n",
       "      <th>14</th>\n",
       "      <td>1</td>\n",
       "      <td>2</td>\n",
       "      <td>0</td>\n",
       "      <td>[0, 1]</td>\n",
       "      <td>[0, 0]</td>\n",
       "      <td>59.70</td>\n",
       "      <td>20</td>\n",
       "      <td>['D', 'C', 'A', 'B']</td>\n",
       "      <td>[3, 3]</td>\n",
       "      <td>4.0</td>\n",
       "      <td>3.0</td>\n",
       "    </tr>\n",
       "  </tbody>\n",
       "</table>\n",
       "</div>"
      ],
      "text/plain": [
       "    teacher  run  block_idx first_movement   start   onset  problem  \\\n",
       "0         1    1          0         [0, 1]  [0, 0]   30.00       22   \n",
       "1         1    1          0         [0, 1]  [0, 0]   45.35       22   \n",
       "2         1    1          0         [0, 1]  [0, 0]   59.35       22   \n",
       "3         1    1          1         [0, 4]  [0, 5]  104.05       18   \n",
       "4         1    1          1         [0, 4]  [0, 5]  118.45       18   \n",
       "5         1    1          1         [0, 4]  [0, 5]  132.55       18   \n",
       "6         1    1          2         [5, 4]  [5, 5]  175.90        1   \n",
       "7         1    1          2         [5, 4]  [5, 5]  192.70        1   \n",
       "8         1    1          2         [5, 4]  [5, 5]  207.30        1   \n",
       "9         1    1          3         [5, 1]  [5, 0]  254.65       16   \n",
       "10        1    1          3         [5, 1]  [5, 0]  268.80       16   \n",
       "11        1    1          3         [5, 1]  [5, 0]  284.65       16   \n",
       "12        1    2          0         [0, 1]  [0, 0]   30.00       20   \n",
       "13        1    2          0         [0, 1]  [0, 0]   44.95       20   \n",
       "14        1    2          0         [0, 1]  [0, 0]   59.70       20   \n",
       "\n",
       "                   order example  teacher_rating  num_hint  \n",
       "0   ['C', 'B', 'D', 'A']  [1, 2]             1.0       1.0  \n",
       "1   ['C', 'B', 'D', 'A']  [4, 3]             2.0       2.0  \n",
       "2   ['C', 'B', 'D', 'A']     NaN             2.0       NaN  \n",
       "3   ['D', 'B', 'C', 'A']  [0, 3]             0.0       1.0  \n",
       "4   ['D', 'B', 'C', 'A']  [5, 2]             NaN       2.0  \n",
       "5   ['D', 'B', 'C', 'A']  [1, 1]             3.0       3.0  \n",
       "6   ['A', 'D', 'C', 'B']  [5, 1]             1.0       1.0  \n",
       "7   ['A', 'D', 'C', 'B']  [0, 1]             4.0       2.0  \n",
       "8   ['A', 'D', 'C', 'B']  [0, 4]             4.0       3.0  \n",
       "9   ['B', 'C', 'A', 'D']     NaN             0.0       NaN  \n",
       "10  ['B', 'C', 'A', 'D']  [4, 3]             1.0       1.0  \n",
       "11  ['B', 'C', 'A', 'D']  [1, 2]             NaN       2.0  \n",
       "12  ['D', 'C', 'A', 'B']  [1, 3]             NaN       1.0  \n",
       "13  ['D', 'C', 'A', 'B']  [3, 1]             2.0       2.0  \n",
       "14  ['D', 'C', 'A', 'B']  [3, 3]             4.0       3.0  "
      ]
     },
     "execution_count": 34,
     "metadata": {},
     "output_type": "execute_result"
    }
   ],
   "source": [
    "teach_df = (\n",
    "    pd.read_csv('teaching_behavior.csv')\n",
    "    .rename(columns={'subject': 'teacher', 'rating': 'teacher_rating'})\n",
    ")\n",
    "\n",
    "# align teacher trial indices with students'\n",
    "teach_df['hint_presented'] = ~pd.isna(teach_df['example'])*1\n",
    "teach_df['num_hint'] = teach_df.groupby(['teacher', 'problem']).hint_presented.transform('cumsum')\n",
    "teach_df['num_hint'] = np.where(teach_df.hint_presented, teach_df.num_hint, np.nan)\n",
    "teach_df = teach_df.drop(columns=['ex_idx', 'hint_presented'])\n",
    "\n",
    "teach_df.head(15)"
   ]
  },
  {
   "cell_type": "markdown",
   "metadata": {},
   "source": [
    "Load problem orders:"
   ]
  },
  {
   "cell_type": "code",
   "execution_count": 35,
   "metadata": {},
   "outputs": [
    {
     "data": {
      "text/html": [
       "<div>\n",
       "<style scoped>\n",
       "    .dataframe tbody tr th:only-of-type {\n",
       "        vertical-align: middle;\n",
       "    }\n",
       "\n",
       "    .dataframe tbody tr th {\n",
       "        vertical-align: top;\n",
       "    }\n",
       "\n",
       "    .dataframe thead th {\n",
       "        text-align: right;\n",
       "    }\n",
       "</style>\n",
       "<table border=\"1\" class=\"dataframe\">\n",
       "  <thead>\n",
       "    <tr style=\"text-align: right;\">\n",
       "      <th></th>\n",
       "      <th>teacher</th>\n",
       "      <th>problem</th>\n",
       "      <th>order</th>\n",
       "    </tr>\n",
       "  </thead>\n",
       "  <tbody>\n",
       "    <tr>\n",
       "      <th>0</th>\n",
       "      <td>1</td>\n",
       "      <td>22</td>\n",
       "      <td>[C, B, D, A]</td>\n",
       "    </tr>\n",
       "    <tr>\n",
       "      <th>3</th>\n",
       "      <td>1</td>\n",
       "      <td>18</td>\n",
       "      <td>[D, B, C, A]</td>\n",
       "    </tr>\n",
       "    <tr>\n",
       "      <th>6</th>\n",
       "      <td>1</td>\n",
       "      <td>1</td>\n",
       "      <td>[A, D, C, B]</td>\n",
       "    </tr>\n",
       "    <tr>\n",
       "      <th>9</th>\n",
       "      <td>1</td>\n",
       "      <td>16</td>\n",
       "      <td>[B, C, A, D]</td>\n",
       "    </tr>\n",
       "    <tr>\n",
       "      <th>12</th>\n",
       "      <td>1</td>\n",
       "      <td>20</td>\n",
       "      <td>[D, C, A, B]</td>\n",
       "    </tr>\n",
       "  </tbody>\n",
       "</table>\n",
       "</div>"
      ],
      "text/plain": [
       "    teacher  problem         order\n",
       "0         1       22  [C, B, D, A]\n",
       "3         1       18  [D, B, C, A]\n",
       "6         1        1  [A, D, C, B]\n",
       "9         1       16  [B, C, A, D]\n",
       "12        1       20  [D, C, A, B]"
      ]
     },
     "execution_count": 35,
     "metadata": {},
     "output_type": "execute_result"
    }
   ],
   "source": [
    "problem_orders = (\n",
    "    teach_df\n",
    "    [['teacher', 'problem', 'order']]\n",
    "    .drop_duplicates()\n",
    ")\n",
    "problem_orders['order'] = problem_orders.order.apply(literal_eval)\n",
    "problem_orders.head()"
   ]
  },
  {
   "cell_type": "markdown",
   "metadata": {},
   "source": [
    "Reorder student bets to align with model-predicted belief distribution:"
   ]
  },
  {
   "cell_type": "code",
   "execution_count": 55,
   "metadata": {},
   "outputs": [
    {
     "ename": "AttributeError",
     "evalue": "'Series' object has no attribute 'order'",
     "output_type": "error",
     "traceback": [
      "\u001b[0;31m---------------------------------------------------------------------------\u001b[0m",
      "\u001b[0;31mAttributeError\u001b[0m                            Traceback (most recent call last)",
      "\u001b[1;32m/Users/aliciachen/Dropbox/projects/adaptive_teaching/experiments/exp3/problems/3_performance.ipynb Cell 18\u001b[0m line \u001b[0;36m<cell line: 6>\u001b[0;34m()\u001b[0m\n\u001b[1;32m      <a href='vscode-notebook-cell:/Users/aliciachen/Dropbox/projects/adaptive_teaching/experiments/exp3/problems/3_performance.ipynb#X23sZmlsZQ%3D%3D?line=2'>3</a>\u001b[0m     \u001b[39mreturn\u001b[39;00m beliefs_sorted\n\u001b[1;32m      <a href='vscode-notebook-cell:/Users/aliciachen/Dropbox/projects/adaptive_teaching/experiments/exp3/problems/3_performance.ipynb#X23sZmlsZQ%3D%3D?line=4'>5</a>\u001b[0m student_belief \u001b[39m=\u001b[39m student_df\u001b[39m.\u001b[39mcopy()\u001b[39m.\u001b[39mmerge(problem_orders, on \u001b[39m=\u001b[39m[\u001b[39m'\u001b[39m\u001b[39mteacher\u001b[39m\u001b[39m'\u001b[39m, \u001b[39m'\u001b[39m\u001b[39mproblem\u001b[39m\u001b[39m'\u001b[39m], how\u001b[39m=\u001b[39m\u001b[39m'\u001b[39m\u001b[39mleft\u001b[39m\u001b[39m'\u001b[39m)\n\u001b[0;32m----> <a href='vscode-notebook-cell:/Users/aliciachen/Dropbox/projects/adaptive_teaching/experiments/exp3/problems/3_performance.ipynb#X23sZmlsZQ%3D%3D?line=5'>6</a>\u001b[0m student_belief[\u001b[39m'\u001b[39m\u001b[39mbets_sorted\u001b[39m\u001b[39m'\u001b[39m] \u001b[39m=\u001b[39m student_belief\u001b[39m.\u001b[39;49mapply(sort_bets, axis\u001b[39m=\u001b[39;49m\u001b[39m1\u001b[39;49m)\n\u001b[1;32m      <a href='vscode-notebook-cell:/Users/aliciachen/Dropbox/projects/adaptive_teaching/experiments/exp3/problems/3_performance.ipynb#X23sZmlsZQ%3D%3D?line=6'>7</a>\u001b[0m student_belief[\u001b[39m'\u001b[39m\u001b[39mbelief_in_true\u001b[39m\u001b[39m'\u001b[39m] \u001b[39m=\u001b[39m student_belief\u001b[39m.\u001b[39mbets_sorted\u001b[39m.\u001b[39mapply(\u001b[39mlambda\u001b[39;00m b: b[\u001b[39m0\u001b[39m]\u001b[39m/\u001b[39m\u001b[39msum\u001b[39m(b))\n\u001b[1;32m      <a href='vscode-notebook-cell:/Users/aliciachen/Dropbox/projects/adaptive_teaching/experiments/exp3/problems/3_performance.ipynb#X23sZmlsZQ%3D%3D?line=7'>8</a>\u001b[0m student_belief\u001b[39m.\u001b[39mhead(\u001b[39m20\u001b[39m)\n",
      "File \u001b[0;32m~/miniconda3/envs/hierarchical-teaching/lib/python3.8/site-packages/pandas/core/frame.py:8839\u001b[0m, in \u001b[0;36mDataFrame.apply\u001b[0;34m(self, func, axis, raw, result_type, args, **kwargs)\u001b[0m\n\u001b[1;32m   8828\u001b[0m \u001b[39mfrom\u001b[39;00m \u001b[39mpandas\u001b[39;00m\u001b[39m.\u001b[39;00m\u001b[39mcore\u001b[39;00m\u001b[39m.\u001b[39;00m\u001b[39mapply\u001b[39;00m \u001b[39mimport\u001b[39;00m frame_apply\n\u001b[1;32m   8830\u001b[0m op \u001b[39m=\u001b[39m frame_apply(\n\u001b[1;32m   8831\u001b[0m     \u001b[39mself\u001b[39m,\n\u001b[1;32m   8832\u001b[0m     func\u001b[39m=\u001b[39mfunc,\n\u001b[0;32m   (...)\u001b[0m\n\u001b[1;32m   8837\u001b[0m     kwargs\u001b[39m=\u001b[39mkwargs,\n\u001b[1;32m   8838\u001b[0m )\n\u001b[0;32m-> 8839\u001b[0m \u001b[39mreturn\u001b[39;00m op\u001b[39m.\u001b[39;49mapply()\u001b[39m.\u001b[39m__finalize__(\u001b[39mself\u001b[39m, method\u001b[39m=\u001b[39m\u001b[39m\"\u001b[39m\u001b[39mapply\u001b[39m\u001b[39m\"\u001b[39m)\n",
      "File \u001b[0;32m~/miniconda3/envs/hierarchical-teaching/lib/python3.8/site-packages/pandas/core/apply.py:727\u001b[0m, in \u001b[0;36mFrameApply.apply\u001b[0;34m(self)\u001b[0m\n\u001b[1;32m    724\u001b[0m \u001b[39melif\u001b[39;00m \u001b[39mself\u001b[39m\u001b[39m.\u001b[39mraw:\n\u001b[1;32m    725\u001b[0m     \u001b[39mreturn\u001b[39;00m \u001b[39mself\u001b[39m\u001b[39m.\u001b[39mapply_raw()\n\u001b[0;32m--> 727\u001b[0m \u001b[39mreturn\u001b[39;00m \u001b[39mself\u001b[39;49m\u001b[39m.\u001b[39;49mapply_standard()\n",
      "File \u001b[0;32m~/miniconda3/envs/hierarchical-teaching/lib/python3.8/site-packages/pandas/core/apply.py:851\u001b[0m, in \u001b[0;36mFrameApply.apply_standard\u001b[0;34m(self)\u001b[0m\n\u001b[1;32m    850\u001b[0m \u001b[39mdef\u001b[39;00m \u001b[39mapply_standard\u001b[39m(\u001b[39mself\u001b[39m):\n\u001b[0;32m--> 851\u001b[0m     results, res_index \u001b[39m=\u001b[39m \u001b[39mself\u001b[39;49m\u001b[39m.\u001b[39;49mapply_series_generator()\n\u001b[1;32m    853\u001b[0m     \u001b[39m# wrap results\u001b[39;00m\n\u001b[1;32m    854\u001b[0m     \u001b[39mreturn\u001b[39;00m \u001b[39mself\u001b[39m\u001b[39m.\u001b[39mwrap_results(results, res_index)\n",
      "File \u001b[0;32m~/miniconda3/envs/hierarchical-teaching/lib/python3.8/site-packages/pandas/core/apply.py:867\u001b[0m, in \u001b[0;36mFrameApply.apply_series_generator\u001b[0;34m(self)\u001b[0m\n\u001b[1;32m    864\u001b[0m \u001b[39mwith\u001b[39;00m option_context(\u001b[39m\"\u001b[39m\u001b[39mmode.chained_assignment\u001b[39m\u001b[39m\"\u001b[39m, \u001b[39mNone\u001b[39;00m):\n\u001b[1;32m    865\u001b[0m     \u001b[39mfor\u001b[39;00m i, v \u001b[39min\u001b[39;00m \u001b[39menumerate\u001b[39m(series_gen):\n\u001b[1;32m    866\u001b[0m         \u001b[39m# ignore SettingWithCopy here in case the user mutates\u001b[39;00m\n\u001b[0;32m--> 867\u001b[0m         results[i] \u001b[39m=\u001b[39m \u001b[39mself\u001b[39;49m\u001b[39m.\u001b[39;49mf(v)\n\u001b[1;32m    868\u001b[0m         \u001b[39mif\u001b[39;00m \u001b[39misinstance\u001b[39m(results[i], ABCSeries):\n\u001b[1;32m    869\u001b[0m             \u001b[39m# If we have a view on v, we need to make a copy because\u001b[39;00m\n\u001b[1;32m    870\u001b[0m             \u001b[39m#  series_generator will swap out the underlying data\u001b[39;00m\n\u001b[1;32m    871\u001b[0m             results[i] \u001b[39m=\u001b[39m results[i]\u001b[39m.\u001b[39mcopy(deep\u001b[39m=\u001b[39m\u001b[39mFalse\u001b[39;00m)\n",
      "\u001b[1;32m/Users/aliciachen/Dropbox/projects/adaptive_teaching/experiments/exp3/problems/3_performance.ipynb Cell 18\u001b[0m line \u001b[0;36msort_bets\u001b[0;34m(row)\u001b[0m\n\u001b[1;32m      <a href='vscode-notebook-cell:/Users/aliciachen/Dropbox/projects/adaptive_teaching/experiments/exp3/problems/3_performance.ipynb#X23sZmlsZQ%3D%3D?line=0'>1</a>\u001b[0m \u001b[39mdef\u001b[39;00m \u001b[39msort_bets\u001b[39m(row):\n\u001b[0;32m----> <a href='vscode-notebook-cell:/Users/aliciachen/Dropbox/projects/adaptive_teaching/experiments/exp3/problems/3_performance.ipynb#X23sZmlsZQ%3D%3D?line=1'>2</a>\u001b[0m     beliefs_sorted \u001b[39m=\u001b[39m [bet \u001b[39mfor\u001b[39;00m h, bet \u001b[39min\u001b[39;00m \u001b[39msorted\u001b[39m(\u001b[39mzip\u001b[39m(row\u001b[39m.\u001b[39;49morder, row\u001b[39m.\u001b[39mbets))]\n\u001b[1;32m      <a href='vscode-notebook-cell:/Users/aliciachen/Dropbox/projects/adaptive_teaching/experiments/exp3/problems/3_performance.ipynb#X23sZmlsZQ%3D%3D?line=2'>3</a>\u001b[0m     \u001b[39mreturn\u001b[39;00m beliefs_sorted\n",
      "File \u001b[0;32m~/miniconda3/envs/hierarchical-teaching/lib/python3.8/site-packages/pandas/core/generic.py:5575\u001b[0m, in \u001b[0;36mNDFrame.__getattr__\u001b[0;34m(self, name)\u001b[0m\n\u001b[1;32m   5568\u001b[0m \u001b[39mif\u001b[39;00m (\n\u001b[1;32m   5569\u001b[0m     name \u001b[39mnot\u001b[39;00m \u001b[39min\u001b[39;00m \u001b[39mself\u001b[39m\u001b[39m.\u001b[39m_internal_names_set\n\u001b[1;32m   5570\u001b[0m     \u001b[39mand\u001b[39;00m name \u001b[39mnot\u001b[39;00m \u001b[39min\u001b[39;00m \u001b[39mself\u001b[39m\u001b[39m.\u001b[39m_metadata\n\u001b[1;32m   5571\u001b[0m     \u001b[39mand\u001b[39;00m name \u001b[39mnot\u001b[39;00m \u001b[39min\u001b[39;00m \u001b[39mself\u001b[39m\u001b[39m.\u001b[39m_accessors\n\u001b[1;32m   5572\u001b[0m     \u001b[39mand\u001b[39;00m \u001b[39mself\u001b[39m\u001b[39m.\u001b[39m_info_axis\u001b[39m.\u001b[39m_can_hold_identifiers_and_holds_name(name)\n\u001b[1;32m   5573\u001b[0m ):\n\u001b[1;32m   5574\u001b[0m     \u001b[39mreturn\u001b[39;00m \u001b[39mself\u001b[39m[name]\n\u001b[0;32m-> 5575\u001b[0m \u001b[39mreturn\u001b[39;00m \u001b[39mobject\u001b[39;49m\u001b[39m.\u001b[39;49m\u001b[39m__getattribute__\u001b[39;49m(\u001b[39mself\u001b[39;49m, name)\n",
      "\u001b[0;31mAttributeError\u001b[0m: 'Series' object has no attribute 'order'"
     ]
    }
   ],
   "source": [
    "def sort_bets(row):\n",
    "    beliefs_sorted = [bet for h, bet in sorted(zip(row.order, row.bets))]\n",
    "    return beliefs_sorted\n",
    "\n",
    "student_belief = student_df.copy().merge(problem_orders, on =['teacher', 'problem'], how='left')\n",
    "student_belief['bets_sorted'] = student_belief.apply(sort_bets, axis=1)\n",
    "student_belief['belief_in_true'] = student_belief.bets_sorted.apply(lambda b: b[0]/sum(b))\n",
    "student_belief.head(20)\n"
   ]
  },
  {
   "cell_type": "code",
   "execution_count": 56,
   "metadata": {},
   "outputs": [
    {
     "name": "stdout",
     "output_type": "stream",
     "text": [
      "       time_elapsed  teacher  problem  num_trial  num_hint             bets  \\\n",
      "0            181304        4       34          0         1  [0, 35, 41, 48]   \n",
      "1            192911        4       34          0         2   [0, 50, 49, 0]   \n",
      "2            203582        4       34          0         3   [0, 0, 100, 0]   \n",
      "3            223655       27       15          1         1  [0, 52, 50, 48]   \n",
      "4            232054       27       15          1         2   [0, 52, 50, 0]   \n",
      "...             ...      ...      ...        ...       ...              ...   \n",
      "16145       3493912       27        0         38         2   [0, 100, 0, 0]   \n",
      "16146       3496984       27        0         38         3   [0, 100, 0, 0]   \n",
      "16147       3565110        1       14         39         1   [58, 0, 63, 0]   \n",
      "16148       3568346        1       14         39         2   [80, 0, 63, 0]   \n",
      "16149       3572248        1       14         39         3  [100, 0, 24, 0]   \n",
      "\n",
      "          bonus  worker  trial_order               order_x      bets_sorted  \\\n",
      "0      0.013777     133            0  ['B', 'D', 'A', 'C']  [41, 0, 48, 35]   \n",
      "1      0.020623     133            0  ['B', 'D', 'A', 'C']   [49, 0, 0, 50]   \n",
      "2      0.041667     133            0  ['B', 'D', 'A', 'C']   [100, 0, 0, 0]   \n",
      "3      0.014444     133            0  ['B', 'A', 'D', 'C']  [52, 0, 48, 50]   \n",
      "4      0.021242     133            0  ['B', 'A', 'D', 'C']   [52, 0, 0, 50]   \n",
      "...         ...     ...          ...                   ...              ...   \n",
      "16145  0.041667       3          132  ['D', 'A', 'C', 'B']   [100, 0, 0, 0]   \n",
      "16146  0.041667       3          132  ['D', 'A', 'C', 'B']   [100, 0, 0, 0]   \n",
      "16147  0.019972       3          132  ['A', 'C', 'D', 'B']   [58, 0, 0, 63]   \n",
      "16148  0.023310       3          132  ['A', 'C', 'D', 'B']   [80, 0, 0, 63]   \n",
      "16149  0.033602       3          132  ['A', 'C', 'D', 'B']  [100, 0, 0, 24]   \n",
      "\n",
      "       belief_in_true       order_y  \n",
      "0            0.330645  [B, D, A, C]  \n",
      "1            0.494949  [B, D, A, C]  \n",
      "2            1.000000  [B, D, A, C]  \n",
      "3            0.346667  [B, A, D, C]  \n",
      "4            0.509804  [B, A, D, C]  \n",
      "...               ...           ...  \n",
      "16145        1.000000  [D, A, C, B]  \n",
      "16146        1.000000  [D, A, C, B]  \n",
      "16147        0.479339  [A, C, D, B]  \n",
      "16148        0.559441  [A, C, D, B]  \n",
      "16149        0.806452  [A, C, D, B]  \n",
      "\n",
      "[16150 rows x 13 columns]\n"
     ]
    }
   ],
   "source": [
    "print(student_belief)\n",
    "problem_list = [2, 4, 7, 8, 9, 13, 16, 17, 18, 19, 20, 21, 22, 24, 25, 26, 27, 28, 29, 31, 32, 33, 36, 39]\n",
    "\n",
    "# only keep hte rows where problem is in problem_list\n",
    "student_belief = student_belief[student_belief['problem'].isin(problem_list)]\n"
   ]
  },
  {
   "cell_type": "markdown",
   "metadata": {},
   "source": [
    "Belief in true hypothesis over time:"
   ]
  },
  {
   "cell_type": "code",
   "execution_count": 57,
   "metadata": {},
   "outputs": [
    {
     "data": {
      "text/plain": [
       "[Text(0.5, 0, '# Examples'), Text(0, 0.5, 'Bets on correct answer')]"
      ]
     },
     "execution_count": 57,
     "metadata": {},
     "output_type": "execute_result"
    },
    {
     "data": {
      "image/png": "[encoded data removed]",
      "text/plain": [
       "<Figure size 276.923x360 with 1 Axes>"
      ]
     },
     "metadata": {},
     "output_type": "display_data"
    }
   ],
   "source": [
    "avg_student_belief = student_belief.groupby(['worker', 'num_hint']).agg({'belief_in_true': 'mean'}).reset_index()\n",
    "fig,ax=plt.subplots(figsize=(5/1.3,5))\n",
    "sns.pointplot(data=avg_student_belief,x='num_hint',y='belief_in_true', color='k', linewidth=4, ax=ax)\n",
    "ax.axhline(y=0.25, linestyle='--', color='#aaa')\n",
    "ax.set(xlabel='# Examples', ylabel='Bets on correct answer')\n",
    "\n",
    "# plt.savefig('plots/student_belief.pdf', bbox_inches='tight')"
   ]
  },
  {
   "cell_type": "markdown",
   "metadata": {},
   "source": [
    "Load teacher ratings:"
   ]
  },
  {
   "cell_type": "code",
   "execution_count": 58,
   "metadata": {},
   "outputs": [
    {
     "name": "stdout",
     "output_type": "stream",
     "text": [
      "(3319, 4)\n"
     ]
    },
    {
     "data": {
      "text/html": [
       "<div>\n",
       "<style scoped>\n",
       "    .dataframe tbody tr th:only-of-type {\n",
       "        vertical-align: middle;\n",
       "    }\n",
       "\n",
       "    .dataframe tbody tr th {\n",
       "        vertical-align: top;\n",
       "    }\n",
       "\n",
       "    .dataframe thead th {\n",
       "        text-align: right;\n",
       "    }\n",
       "</style>\n",
       "<table border=\"1\" class=\"dataframe\">\n",
       "  <thead>\n",
       "    <tr style=\"text-align: right;\">\n",
       "      <th></th>\n",
       "      <th>teacher</th>\n",
       "      <th>problem</th>\n",
       "      <th>num_hint</th>\n",
       "      <th>teacher_rating</th>\n",
       "    </tr>\n",
       "  </thead>\n",
       "  <tbody>\n",
       "    <tr>\n",
       "      <th>0</th>\n",
       "      <td>1</td>\n",
       "      <td>22</td>\n",
       "      <td>1.0</td>\n",
       "      <td>2</td>\n",
       "    </tr>\n",
       "    <tr>\n",
       "      <th>1</th>\n",
       "      <td>1</td>\n",
       "      <td>22</td>\n",
       "      <td>2.0</td>\n",
       "      <td>3</td>\n",
       "    </tr>\n",
       "    <tr>\n",
       "      <th>3</th>\n",
       "      <td>1</td>\n",
       "      <td>18</td>\n",
       "      <td>1.0</td>\n",
       "      <td>1</td>\n",
       "    </tr>\n",
       "    <tr>\n",
       "      <th>5</th>\n",
       "      <td>1</td>\n",
       "      <td>18</td>\n",
       "      <td>3.0</td>\n",
       "      <td>4</td>\n",
       "    </tr>\n",
       "    <tr>\n",
       "      <th>6</th>\n",
       "      <td>1</td>\n",
       "      <td>1</td>\n",
       "      <td>1.0</td>\n",
       "      <td>2</td>\n",
       "    </tr>\n",
       "  </tbody>\n",
       "</table>\n",
       "</div>"
      ],
      "text/plain": [
       "   teacher  problem  num_hint  teacher_rating\n",
       "0        1       22       1.0               2\n",
       "1        1       22       2.0               3\n",
       "3        1       18       1.0               1\n",
       "5        1       18       3.0               4\n",
       "6        1        1       1.0               2"
      ]
     },
     "execution_count": 58,
     "metadata": {},
     "output_type": "execute_result"
    }
   ],
   "source": [
    "teacher_ratings = (\n",
    "    teach_df\n",
    "    .copy()\n",
    "    [['teacher', 'problem', 'num_hint', 'teacher_rating']]\n",
    "    .dropna(subset=['num_hint', 'teacher_rating'])\n",
    ")\n",
    "teacher_ratings['teacher_rating'] = (teacher_ratings['teacher_rating']+1).astype(int)# rescale to 1-5\n",
    "\n",
    "print(teacher_ratings.shape)\n",
    "teacher_ratings.head()"
   ]
  },
  {
   "cell_type": "markdown",
   "metadata": {},
   "source": [
    "Students' bets vs. teachers' ratings:"
   ]
  },
  {
   "cell_type": "code",
   "execution_count": 59,
   "metadata": {},
   "outputs": [
    {
     "data": {
      "text/plain": [
       "[Text(0.5, 0, 'Teachers:\\n\"How likely are students\\nto get it right?\"'),\n",
       " Text(0, 0.5, 'Learners:\\nBets on correct answer')]"
      ]
     },
     "execution_count": 59,
     "metadata": {},
     "output_type": "execute_result"
    },
    {
     "data": {
      "image/png": "[encoded data removed]",
      "text/plain": [
       "<Figure size 468x360 with 1 Axes>"
      ]
     },
     "metadata": {},
     "output_type": "display_data"
    }
   ],
   "source": [
    "fig,ax=plt.subplots(figsize=(5*1.3, 5))\n",
    "students_vs_teachers = student_belief.merge(teacher_ratings)\n",
    "students_vs_teachers = students_vs_teachers.groupby(['teacher', 'teacher_rating']).agg({'belief_in_true': 'mean'}).reset_index()\n",
    "\n",
    "sns.pointplot(data=students_vs_teachers, x='teacher_rating', y='belief_in_true', color='k', lw=4, ax=ax)\n",
    "ax.axhline(y=0.25, linestyle='--', color='#aaa')\n",
    "ax.set(xlabel='Teachers:\\n\"How likely are students\\nto get it right?\"',\n",
    "       ylabel='Learners:\\nBets on correct answer')\n",
    "\n",
    "# plt.savefig('plots/students_vs_teachers.pdf', bbox_inches='tight')"
   ]
  },
  {
   "cell_type": "markdown",
   "metadata": {},
   "source": [
    "## Variability in teacher quality"
   ]
  },
  {
   "cell_type": "markdown",
   "metadata": {},
   "source": [
    "Prepare regression inputs:\n",
    "\n",
    "`belief_in_true ~ num_hint * rating + (1|problem) + (1|student) + (rating|teacher)`"
   ]
  },
  {
   "cell_type": "code",
   "execution_count": 60,
   "metadata": {},
   "outputs": [
    {
     "data": {
      "text/html": [
       "<div>\n",
       "<style scoped>\n",
       "    .dataframe tbody tr th:only-of-type {\n",
       "        vertical-align: middle;\n",
       "    }\n",
       "\n",
       "    .dataframe tbody tr th {\n",
       "        vertical-align: top;\n",
       "    }\n",
       "\n",
       "    .dataframe thead th {\n",
       "        text-align: right;\n",
       "    }\n",
       "</style>\n",
       "<table border=\"1\" class=\"dataframe\">\n",
       "  <thead>\n",
       "    <tr style=\"text-align: right;\">\n",
       "      <th></th>\n",
       "      <th>time_elapsed</th>\n",
       "      <th>teacher</th>\n",
       "      <th>problem</th>\n",
       "      <th>num_trial</th>\n",
       "      <th>num_hint</th>\n",
       "      <th>bets</th>\n",
       "      <th>bonus</th>\n",
       "      <th>worker</th>\n",
       "      <th>trial_order</th>\n",
       "      <th>order_x</th>\n",
       "      <th>bets_sorted</th>\n",
       "      <th>belief_in_true</th>\n",
       "      <th>order_y</th>\n",
       "      <th>teacher_rating</th>\n",
       "    </tr>\n",
       "  </thead>\n",
       "  <tbody>\n",
       "    <tr>\n",
       "      <th>0</th>\n",
       "      <td>181304</td>\n",
       "      <td>4</td>\n",
       "      <td>34</td>\n",
       "      <td>0</td>\n",
       "      <td>1</td>\n",
       "      <td>[0, 35, 41, 48]</td>\n",
       "      <td>0.013777</td>\n",
       "      <td>133</td>\n",
       "      <td>0</td>\n",
       "      <td>['B', 'D', 'A', 'C']</td>\n",
       "      <td>[41, 0, 48, 35]</td>\n",
       "      <td>0.330645</td>\n",
       "      <td>[B, D, A, C]</td>\n",
       "      <td>2</td>\n",
       "    </tr>\n",
       "    <tr>\n",
       "      <th>1</th>\n",
       "      <td>1103234</td>\n",
       "      <td>4</td>\n",
       "      <td>34</td>\n",
       "      <td>33</td>\n",
       "      <td>1</td>\n",
       "      <td>[0, 43, 41, 48]</td>\n",
       "      <td>0.012942</td>\n",
       "      <td>137</td>\n",
       "      <td>47</td>\n",
       "      <td>['B', 'D', 'A', 'C']</td>\n",
       "      <td>[41, 0, 48, 43]</td>\n",
       "      <td>0.310606</td>\n",
       "      <td>[B, D, A, C]</td>\n",
       "      <td>2</td>\n",
       "    </tr>\n",
       "    <tr>\n",
       "      <th>2</th>\n",
       "      <td>1035089</td>\n",
       "      <td>4</td>\n",
       "      <td>34</td>\n",
       "      <td>6</td>\n",
       "      <td>1</td>\n",
       "      <td>[0, 54, 44, 42]</td>\n",
       "      <td>0.013095</td>\n",
       "      <td>38</td>\n",
       "      <td>78</td>\n",
       "      <td>['B', 'D', 'A', 'C']</td>\n",
       "      <td>[44, 0, 42, 54]</td>\n",
       "      <td>0.314286</td>\n",
       "      <td>[B, D, A, C]</td>\n",
       "      <td>2</td>\n",
       "    </tr>\n",
       "    <tr>\n",
       "      <th>3</th>\n",
       "      <td>429957</td>\n",
       "      <td>4</td>\n",
       "      <td>34</td>\n",
       "      <td>10</td>\n",
       "      <td>1</td>\n",
       "      <td>[0, 25, 25, 25]</td>\n",
       "      <td>0.013889</td>\n",
       "      <td>6</td>\n",
       "      <td>102</td>\n",
       "      <td>['B', 'D', 'A', 'C']</td>\n",
       "      <td>[25, 0, 25, 25]</td>\n",
       "      <td>0.333333</td>\n",
       "      <td>[B, D, A, C]</td>\n",
       "      <td>2</td>\n",
       "    </tr>\n",
       "    <tr>\n",
       "      <th>4</th>\n",
       "      <td>1011954</td>\n",
       "      <td>4</td>\n",
       "      <td>34</td>\n",
       "      <td>34</td>\n",
       "      <td>1</td>\n",
       "      <td>[0, 2, 99, 4]</td>\n",
       "      <td>0.039286</td>\n",
       "      <td>67</td>\n",
       "      <td>113</td>\n",
       "      <td>['B', 'D', 'A', 'C']</td>\n",
       "      <td>[99, 0, 4, 2]</td>\n",
       "      <td>0.942857</td>\n",
       "      <td>[B, D, A, C]</td>\n",
       "      <td>2</td>\n",
       "    </tr>\n",
       "  </tbody>\n",
       "</table>\n",
       "</div>"
      ],
      "text/plain": [
       "   time_elapsed  teacher  problem  num_trial  num_hint             bets  \\\n",
       "0        181304        4       34          0         1  [0, 35, 41, 48]   \n",
       "1       1103234        4       34         33         1  [0, 43, 41, 48]   \n",
       "2       1035089        4       34          6         1  [0, 54, 44, 42]   \n",
       "3        429957        4       34         10         1  [0, 25, 25, 25]   \n",
       "4       1011954        4       34         34         1    [0, 2, 99, 4]   \n",
       "\n",
       "      bonus  worker  trial_order               order_x      bets_sorted  \\\n",
       "0  0.013777     133            0  ['B', 'D', 'A', 'C']  [41, 0, 48, 35]   \n",
       "1  0.012942     137           47  ['B', 'D', 'A', 'C']  [41, 0, 48, 43]   \n",
       "2  0.013095      38           78  ['B', 'D', 'A', 'C']  [44, 0, 42, 54]   \n",
       "3  0.013889       6          102  ['B', 'D', 'A', 'C']  [25, 0, 25, 25]   \n",
       "4  0.039286      67          113  ['B', 'D', 'A', 'C']    [99, 0, 4, 2]   \n",
       "\n",
       "   belief_in_true       order_y  teacher_rating  \n",
       "0        0.330645  [B, D, A, C]               2  \n",
       "1        0.310606  [B, D, A, C]               2  \n",
       "2        0.314286  [B, D, A, C]               2  \n",
       "3        0.333333  [B, D, A, C]               2  \n",
       "4        0.942857  [B, D, A, C]               2  "
      ]
     },
     "execution_count": 60,
     "metadata": {},
     "output_type": "execute_result"
    }
   ],
   "source": [
    "student_performance = student_belief.merge(teacher_ratings)\n",
    "student_performance.head()"
   ]
  },
  {
   "cell_type": "markdown",
   "metadata": {},
   "source": [
    "Save to file:"
   ]
  },
  {
   "cell_type": "code",
   "execution_count": 62,
   "metadata": {},
   "outputs": [],
   "source": [
    "student_performance.to_csv('outputs/student_beliefs.csv', index=False)"
   ]
  }
 ],
 "metadata": {
  "kernelspec": {
   "display_name": "hierarchical-teaching",
   "language": "python",
   "name": "python3"
  },
  "language_info": {
   "codemirror_mode": {
    "name": "ipython",
    "version": 3
   },
   "file_extension": ".py",
   "mimetype": "text/x-python",
   "name": "python",
   "nbconvert_exporter": "python",
   "pygments_lexer": "ipython3",
   "version": "3.8.13"
  }
 },
 "nbformat": 4,
 "nbformat_minor": 4
}
